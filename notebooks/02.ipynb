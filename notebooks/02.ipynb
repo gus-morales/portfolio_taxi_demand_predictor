{
 "cells": [
  {
   "attachments": {},
   "cell_type": "markdown",
   "metadata": {},
   "source": [
    "## Notebook Configuration"
   ]
  },
  {
   "cell_type": "code",
   "execution_count": 1,
   "metadata": {},
   "outputs": [],
   "source": [
    "# IMPORTS & CONFIG\n",
    "\n",
    "# utils\n",
    "from watermark import watermark\n",
    "from loguru import logger\n",
    "import sys\n",
    "\n",
    "# data science\n",
    "import pandas as pd\n",
    "import numpy as np\n",
    "\n",
    "# config\n",
    "logger_format = (\n",
    "    \"<green>{time:MMM-D HH:mm:ss.SSS}</green> | \"\n",
    "    \"<level>{level: <8}</level> | \"\n",
    "    \"<level>{message}</level>\"\n",
    ")\n",
    "logger.configure(extra={\"ip\": \"\", \"user\": \"\"})  # Default values\n",
    "logger.remove()\n",
    "logger.add(sys.stderr, format=logger_format)\n",
    "pass"
   ]
  },
  {
   "cell_type": "code",
   "execution_count": 2,
   "metadata": {},
   "outputs": [
    {
     "name": "stdout",
     "output_type": "stream",
     "text": [
      "Author: Gustavo Morales\n",
      "\n",
      "Last updated: 2023-07-03\n",
      "\n",
      "Python implementation: CPython\n",
      "Python version       : 3.11.4\n",
      "IPython version      : 8.14.0\n",
      "\n",
      "pandas: 2.0.3\n",
      "numpy : 1.25.0\n",
      "\n"
     ]
    }
   ],
   "source": [
    "# WATERMARK\n",
    "wmrk_dict = {\n",
    "    'author':'Gustavo Morales',\n",
    "    'current_date':True,\n",
    "    'updated':True,\n",
    "    'python':True,\n",
    "    'packages':'pandas,numpy',\n",
    "}\n",
    "\n",
    "print(watermark(**wmrk_dict))"
   ]
  },
  {
   "cell_type": "code",
   "execution_count": null,
   "metadata": {},
   "outputs": [],
   "source": []
  }
 ],
 "metadata": {
  "kernelspec": {
   "display_name": ".venv",
   "language": "python",
   "name": "python3"
  },
  "language_info": {
   "codemirror_mode": {
    "name": "ipython",
    "version": 3
   },
   "file_extension": ".py",
   "mimetype": "text/x-python",
   "name": "python",
   "nbconvert_exporter": "python",
   "pygments_lexer": "ipython3",
   "version": "3.11.4"
  },
  "orig_nbformat": 4
 },
 "nbformat": 4,
 "nbformat_minor": 2
}
